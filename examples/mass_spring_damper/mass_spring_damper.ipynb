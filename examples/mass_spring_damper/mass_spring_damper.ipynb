{
 "metadata": {
  "name": "",
  "signature": "sha256:0b7232c76b116c51a5911f81e43c34a5dc7a4e61690e04780a49f12f1df0b61b"
 },
 "nbformat": 3,
 "nbformat_minor": 0,
 "worksheets": [
  {
   "cells": [
    {
     "cell_type": "markdown",
     "metadata": {},
     "source": [
      "#Defining the Problem"
     ]
    },
    {
     "cell_type": "markdown",
     "metadata": {},
     "source": [
      "Here we will derive the equations of motion for the classic mass, spring, damper system under the influence of gravity. The following figure gives a pictorial description of the problem."
     ]
    },
    {
     "cell_type": "code",
     "collapsed": false,
     "input": [
      "from IPython.display import SVG\n",
      "SVG(filename='mass_spring_damper.svg')"
     ],
     "language": "python",
     "metadata": {},
     "outputs": []
    },
    {
     "cell_type": "markdown",
     "metadata": {},
     "source": [
      "Start by loading in the core functionality of both SymPy and Mechanics."
     ]
    },
    {
     "cell_type": "code",
     "collapsed": false,
     "input": [
      "import sympy as sym\n",
      "import sympy.physics.mechanics as me"
     ],
     "language": "python",
     "metadata": {},
     "outputs": []
    },
    {
     "cell_type": "markdown",
     "metadata": {},
     "source": [
      "We can make use of the pretty printing of our results by loading the SymPy's printing extension"
     ]
    },
    {
     "cell_type": "code",
     "collapsed": false,
     "input": [
      "from sympy.physics.vector import init_vprinting\n",
      "init_vprinting()"
     ],
     "language": "python",
     "metadata": {},
     "outputs": []
    },
    {
     "cell_type": "markdown",
     "metadata": {},
     "source": [
      "We'll start by defining the variables will need for this problem. $x$ is the distance of the particle from the ceiling, $v$ is the speed of the particle, $m$ is the mass of the particle, $c$ is the damping coefficient of the damper, $k$ is the stiffness of the spring, $g$ is the acceleration due to gravity, and $t$ represents time."
     ]
    },
    {
     "cell_type": "code",
     "collapsed": true,
     "input": [
      "x, v = me.dynamicsymbols('x v')"
     ],
     "language": "python",
     "metadata": {},
     "outputs": []
    },
    {
     "cell_type": "code",
     "collapsed": true,
     "input": [
      "m, c, k, g, t = sym.symbols('m c k g t')"
     ],
     "language": "python",
     "metadata": {},
     "outputs": []
    },
    {
     "cell_type": "markdown",
     "metadata": {},
     "source": [
      "Now, we define a Newtonian reference frame that represents the ceiling which the particle is attached to, $C$."
     ]
    },
    {
     "cell_type": "code",
     "collapsed": true,
     "input": [
      "ceiling = me.ReferenceFrame('C')"
     ],
     "language": "python",
     "metadata": {},
     "outputs": []
    },
    {
     "cell_type": "markdown",
     "metadata": {},
     "source": [
      "We will need two points, one to represent the original position of the particle which stays fixed in the ceiling frame, $o$, and the second one, $p$ which is aligned with the particle as it moves."
     ]
    },
    {
     "cell_type": "code",
     "collapsed": true,
     "input": [
      "O = me.Point('O')\n",
      "P = me.Point('P')"
     ],
     "language": "python",
     "metadata": {},
     "outputs": []
    },
    {
     "cell_type": "markdown",
     "metadata": {},
     "source": [
      "The velocity of point $o$ in the ceiling is zero."
     ]
    },
    {
     "cell_type": "code",
     "collapsed": false,
     "input": [
      "O.set_vel(ceiling, 0)"
     ],
     "language": "python",
     "metadata": {},
     "outputs": []
    },
    {
     "cell_type": "markdown",
     "metadata": {},
     "source": [
      "Point $p$ can move downward in the $y$ direction and it's velocity is $v$ in the downward direction."
     ]
    },
    {
     "cell_type": "code",
     "collapsed": false,
     "input": [
      "P.set_pos(O, x * ceiling.x)\n",
      "P.set_vel(ceiling, v * ceiling.x)\n",
      "P.vel(ceiling)"
     ],
     "language": "python",
     "metadata": {},
     "outputs": []
    },
    {
     "cell_type": "markdown",
     "metadata": {},
     "source": [
      "There are three forces acting on the particle. Those due to the acceleration of gravity, the damper, and the spring."
     ]
    },
    {
     "cell_type": "code",
     "collapsed": false,
     "input": [
      "damping = -c * P.vel(ceiling)\n",
      "stiffness = -k * P.pos_from(O)\n",
      "gravity = m * g * ceiling.x\n",
      "forces = damping + stiffness + gravity\n",
      "forces"
     ],
     "language": "python",
     "metadata": {},
     "outputs": []
    },
    {
     "cell_type": "markdown",
     "metadata": {},
     "source": [
      "Now we can use Newton's second law, $0=F-ma$, to form the equation of motion of the system."
     ]
    },
    {
     "cell_type": "code",
     "collapsed": false,
     "input": [
      "zero = me.dot(forces - m * P.acc(ceiling), ceiling.x)\n",
      "zero"
     ],
     "language": "python",
     "metadata": {},
     "outputs": []
    },
    {
     "cell_type": "markdown",
     "metadata": {},
     "source": [
      "We can then form the first order equations of motion by solving for $\\frac{dv}{dt}$ and introducing the kinematical differential equation, $v=\\frac{dx}{dt}$."
     ]
    },
    {
     "cell_type": "code",
     "collapsed": true,
     "input": [
      "dv_by_dt = sym.solve(zero, v.diff(t))[0]\n",
      "dx_by_dt = v\n",
      "dv_by_dt, dx_by_dt"
     ],
     "language": "python",
     "metadata": {},
     "outputs": []
    },
    {
     "cell_type": "markdown",
     "metadata": {},
     "source": [
      "Forming the equations of motion can also be done with the automated methods available in the Mechanics package: `LagrangesMethod` and `KanesMethod`. Here we will make use of Kane's method to find the same equations of motion which we found manually above. First define a particle which represents the mass attached to the damper and spring."
     ]
    },
    {
     "cell_type": "code",
     "collapsed": false,
     "input": [
      "mass = me.Particle('mass', P, m)"
     ],
     "language": "python",
     "metadata": {},
     "outputs": []
    },
    {
     "cell_type": "markdown",
     "metadata": {},
     "source": [
      "Now we can construct a `KanesMethod` object by passing in the generalized coordinate, $x$, the generalized speed, $v$, and the kinematical differential equation which relates the two, $0=v-\\frac{dx}{dt}$."
     ]
    },
    {
     "cell_type": "code",
     "collapsed": false,
     "input": [
      "kane = me.KanesMethod(ceiling, q_ind=[x], u_ind=[v], kd_eqs=[v - x.diff(t)])"
     ],
     "language": "python",
     "metadata": {},
     "outputs": []
    },
    {
     "cell_type": "markdown",
     "metadata": {},
     "source": [
      "Now Kane's equations can be computed which returns $F_r$ and $F_r^*$."
     ]
    },
    {
     "cell_type": "code",
     "collapsed": false,
     "input": [
      "fr, frstar = kane.kanes_equations([(P, forces)], [mass])\n",
      "print fr\n",
      "print frstar"
     ],
     "language": "python",
     "metadata": {},
     "outputs": []
    },
    {
     "cell_type": "markdown",
     "metadata": {},
     "source": [
      "The equations are also available in the form $M\\frac{dq,u}{dt}=f(\\dot{u}, u, q)$ and we can extract the mass matrix, $M$, and the forcing equations, $f$."
     ]
    },
    {
     "cell_type": "code",
     "collapsed": false,
     "input": [
      "M = kane.mass_matrix_full\n",
      "f = kane.forcing_full\n",
      "M, f"
     ],
     "language": "python",
     "metadata": {},
     "outputs": []
    },
    {
     "cell_type": "markdown",
     "metadata": {},
     "source": [
      "Finally, we can form the first order differential equations of motion $\\frac{dq,u}{dt}=M^{-1}f(\\dot{u}, u, q)$, which is the same as previously found."
     ]
    },
    {
     "cell_type": "code",
     "collapsed": false,
     "input": [
      "M.inv() * f"
     ],
     "language": "python",
     "metadata": {},
     "outputs": []
    },
    {
     "cell_type": "markdown",
     "metadata": {},
     "source": [
      "#Simulating the system#"
     ]
    },
    {
     "cell_type": "markdown",
     "metadata": {},
     "source": [
      "Now we have defined a mass-spring-damper system, we are going to simulate it.\n",
      "\n",
      "PyDy's `System` is a wrapper, which holds the Kanes object to generate EoMs, and the numerical values of constants and states to carry out the simulation."
     ]
    },
    {
     "cell_type": "code",
     "collapsed": false,
     "input": [
      "from pydy.system import System"
     ],
     "language": "python",
     "metadata": {},
     "outputs": []
    },
    {
     "cell_type": "code",
     "collapsed": false,
     "input": [
      "sys = System(kane)    #Initializing System with the Kane's object"
     ],
     "language": "python",
     "metadata": {},
     "outputs": []
    },
    {
     "cell_type": "markdown",
     "metadata": {},
     "source": [
      "Now, We specify the numerical values of the constants and the initial values of states in the form of a dict"
     ]
    },
    {
     "cell_type": "code",
     "collapsed": false,
     "input": [
      "constants = {m:10, g:9.8, c:5, k:10}    \n",
      "init_conditions = {x:0, v:0}\n",
      "\n",
      "sys.constants = constants\n",
      "sys.initial_conditions = init_conditions"
     ],
     "language": "python",
     "metadata": {},
     "outputs": []
    },
    {
     "cell_type": "markdown",
     "metadata": {},
     "source": [
      "Generating a time vector over which the integration would be carried out."
     ]
    },
    {
     "cell_type": "code",
     "collapsed": false,
     "input": [
      "import numpy as np\n",
      "sys.times = np.linspace(0, 8, 100)"
     ],
     "language": "python",
     "metadata": {},
     "outputs": []
    },
    {
     "cell_type": "code",
     "collapsed": false,
     "input": [
      "x0 = sys.integrate()"
     ],
     "language": "python",
     "metadata": {},
     "outputs": []
    },
    {
     "cell_type": "markdown",
     "metadata": {},
     "source": [
      "#Visualizing the System"
     ]
    },
    {
     "cell_type": "markdown",
     "metadata": {},
     "source": [
      "PyDy has a native module `pydy.viz` which is used to visualize a System in a GUI. Importing the module"
     ]
    },
    {
     "cell_type": "code",
     "collapsed": false,
     "input": [
      "from pydy.viz import *\n",
      "from numpy import pi"
     ],
     "language": "python",
     "metadata": {},
     "outputs": []
    },
    {
     "cell_type": "markdown",
     "metadata": {},
     "source": [
      "For visualizing the system, we need to create shapes for the objects we wish to visualize, and map each of them \n",
      "to a VisualizationFrame, which holds the position and orientation of the object"
     ]
    },
    {
     "cell_type": "code",
     "collapsed": false,
     "input": [
      "bob = Sphere(2, color=\"red\", material=\"metal\")\n",
      "bob_vframe = VisualizationFrame(ceiling, P, bob)"
     ],
     "language": "python",
     "metadata": {},
     "outputs": []
    },
    {
     "cell_type": "code",
     "collapsed": false,
     "input": [
      "ceil = Circle(radius=10, color=\"white\", material=\"metal\")\n",
      "#Creating a new reference frame, to give correct orientation to ceiling..\n",
      "ceil_reference_frame = ceiling.orientnew(\"ceil_new\", 'Axis', [pi/2, ceiling.z])\n",
      "ceil_vframe = VisualizationFrame(ceil_reference_frame, O, ceil)"
     ],
     "language": "python",
     "metadata": {},
     "outputs": []
    },
    {
     "cell_type": "markdown",
     "metadata": {},
     "source": [
      "Now we initialize a Scene. A Scene contains all the information required to visualize a System onto a canvas.\n",
      "It takes a ReferenceFrame and Point as the argument"
     ]
    },
    {
     "cell_type": "code",
     "collapsed": false,
     "input": [
      "scene = Scene(ceiling, O)"
     ],
     "language": "python",
     "metadata": {},
     "outputs": []
    },
    {
     "cell_type": "markdown",
     "metadata": {},
     "source": [
      "We provide the VisualizationFrames, which we want to visualize as a list to scene.."
     ]
    },
    {
     "cell_type": "code",
     "collapsed": false,
     "input": [
      "scene.visualization_frames = [bob_vframe, ceil_vframe]\n"
     ],
     "language": "python",
     "metadata": {},
     "outputs": []
    },
    {
     "cell_type": "markdown",
     "metadata": {},
     "source": [
      "The default camera of Scene has the z axis of the base frame pointing out of the screen, and the y axis pointing up. We want the x axis to point downwards, so we supply a new camera that will achieve this."
     ]
    },
    {
     "cell_type": "code",
     "collapsed": false,
     "input": [
      "primary_camera = PerspectiveCamera(ceiling.orientnew('k','Axis', [pi/2, ceiling.z] ), O.locatenew('a',100*ceil_reference_frame.z))\n",
      "scene.cameras = [primary_camera]"
     ],
     "language": "python",
     "metadata": {},
     "outputs": []
    },
    {
     "cell_type": "markdown",
     "metadata": {},
     "source": [
      "`generate_visualization_json_system` method must be called before calling display methods, to generate the\n",
      "required data for the animations, in the form of JSON files"
     ]
    },
    {
     "cell_type": "code",
     "collapsed": false,
     "input": [
      "scene.generate_visualization_json_system(sys)"
     ],
     "language": "python",
     "metadata": {},
     "outputs": []
    },
    {
     "cell_type": "markdown",
     "metadata": {},
     "source": [
      "Now, we call the display method"
     ]
    },
    {
     "cell_type": "code",
     "collapsed": false,
     "input": [
      "scene.display_ipython()"
     ],
     "language": "python",
     "metadata": {},
     "outputs": []
    },
    {
     "cell_type": "code",
     "collapsed": false,
     "input": [],
     "language": "python",
     "metadata": {},
     "outputs": []
    }
   ],
   "metadata": {}
  }
 ]
}