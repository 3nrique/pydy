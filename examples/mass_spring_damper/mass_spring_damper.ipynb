{
 "metadata": {
  "name": "",
  "signature": "sha256:5539e904b1de3c50241f6c20d485a517a364c50b0c1e8bfe192ef64c101831d1"
 },
 "nbformat": 3,
 "nbformat_minor": 0,
 "worksheets": [
  {
   "cells": [
    {
     "cell_type": "markdown",
     "metadata": {},
     "source": [
      "#Defining the Problem"
     ]
    },
    {
     "cell_type": "markdown",
     "metadata": {},
     "source": [
      "Here we will derive the equations of motion for the classic mass, spring, damper system under the influence of gravity. The following figure gives a pictorial description of the problem."
     ]
    },
    {
     "cell_type": "code",
     "collapsed": false,
     "input": [
      "from IPython.display import SVG\n",
      "SVG(filename='mass_spring_damper.svg')"
     ],
     "language": "python",
     "metadata": {},
     "outputs": [
      {
       "metadata": {},
       "output_type": "pyout",
       "prompt_number": 121,
       "svg": [
        "<svg height=\"400\" id=\"svg2\" inkscape:version=\"0.48.3.1 r9886\" sodipodi:docname=\"mass_spring_damper.svg\" version=\"1.1\" width=\"400\" xmlns=\"http://www.w3.org/2000/svg\" xmlns:cc=\"http://creativecommons.org/ns#\" xmlns:dc=\"http://purl.org/dc/elements/1.1/\" xmlns:inkscape=\"http://www.inkscape.org/namespaces/inkscape\" xmlns:ns0=\"http://www.iki.fi/pav/software/textext/\" xmlns:rdf=\"http://www.w3.org/1999/02/22-rdf-syntax-ns#\" xmlns:sodipodi=\"http://sodipodi.sourceforge.net/DTD/sodipodi-0.dtd\" xmlns:svg=\"http://www.w3.org/2000/svg\" xmlns:xlink=\"http://www.w3.org/1999/xlink\">\n",
        "  <sodipodi:namedview bordercolor=\"#666666\" borderopacity=\"1.0\" id=\"base\" inkscape:current-layer=\"layer1\" inkscape:cx=\"200\" inkscape:cy=\"200\" inkscape:document-units=\"px\" inkscape:guide-bbox=\"true\" inkscape:pageopacity=\"0.0\" inkscape:pageshadow=\"2\" inkscape:window-height=\"744\" inkscape:window-maximized=\"1\" inkscape:window-width=\"1366\" inkscape:window-x=\"0\" inkscape:window-y=\"24\" inkscape:zoom=\"1.4125\" pagecolor=\"#ffffff\" showgrid=\"false\" showguides=\"true\"/>\n",
        "  <defs id=\"defs4\">\n",
        "    <marker id=\"Arrow1Mend\" inkscape:stockid=\"Arrow1Mend\" orient=\"auto\" refX=\"0.0\" refY=\"0.0\" style=\"overflow:visible;\">\n",
        "      <path d=\"M 0.0,0.0 L 5.0,-5.0 L -12.5,0.0 L 5.0,5.0 L 0.0,0.0 z \" id=\"path4821\" style=\"fill-rule:evenodd;stroke:#000000;stroke-width:1.0pt;\" transform=\"scale(0.4) rotate(180) translate(10,0)\"/>\n",
        "    </marker>\n",
        "    <marker id=\"Arrow1Lend\" inkscape:stockid=\"Arrow1Lend\" orient=\"auto\" refX=\"0.0\" refY=\"0.0\" style=\"overflow:visible;\">\n",
        "      <path d=\"M 0.0,0.0 L 5.0,-5.0 L -12.5,0.0 L 5.0,5.0 L 0.0,0.0 z \" id=\"path4815\" style=\"fill-rule:evenodd;stroke:#000000;stroke-width:1.0pt;\" transform=\"scale(0.8) rotate(180) translate(12.5,0)\"/>\n",
        "    </marker>\n",
        "  </defs>\n",
        "  <metadata id=\"metadata7\">\n",
        "    <rdf:RDF>\n",
        "      <cc:Work rdf:about=\"\">\n",
        "        <dc:format>image/svg+xml</dc:format>\n",
        "        <dc:type rdf:resource=\"http://purl.org/dc/dcmitype/StillImage\"/>\n",
        "        <dc:title/>\n",
        "      </cc:Work>\n",
        "    </rdf:RDF>\n",
        "  </metadata>\n",
        "  <g id=\"layer1\" inkscape:groupmode=\"layer\" inkscape:label=\"Layer 1\" transform=\"translate(0,-652.36218)\">\n",
        "    <path d=\"m 275.66301,434.91428 c 0,19.03056 -7.50518,34.45787 -16.76329,34.45787 -9.25811,0 -16.76329,-15.42731 -16.76329,-34.45787 0,-19.03056 7.50518,-34.45788 16.76329,-34.45788 9.25811,0 16.76329,15.42732 16.76329,34.45788 z\" id=\"path2985\" sodipodi:cx=\"258.89972\" sodipodi:cy=\"434.91428\" sodipodi:rx=\"16.763292\" sodipodi:ry=\"34.457878\" sodipodi:type=\"arc\" style=\"fill:#000000;stroke:#ffffff;stroke-width:3;stroke-linecap:round;stroke-linejoin:round;stroke-miterlimit:4;stroke-opacity:1;stroke-dasharray:none;stroke-dashoffset:0\" transform=\"matrix(2.2459897,0,0,1.0926436,-383.96398,479.35965)\"/>\n",
        "    <path d=\"m 65.840708,706.87545 260.530972,0\" id=\"path2987\" inkscape:connector-curvature=\"0\" style=\"fill:none;stroke:#000000;stroke-width:4;stroke-linecap:butt;stroke-linejoin:miter;stroke-opacity:1;stroke-miterlimit:4;stroke-dasharray:none\"/>\n",
        "    <path d=\"m 196.6927,949.24229 0,-55.92921\" id=\"path2989\" inkscape:connector-curvature=\"0\" style=\"fill:none;stroke:#000000;stroke-width:3;stroke-linecap:butt;stroke-linejoin:miter;stroke-opacity:1;stroke-miterlimit:4;stroke-dasharray:none\"/>\n",
        "    <path d=\"m 146.54867,178.40708 0,62.30088 95.57522,0 0,-30.07807\" id=\"path2991\" inkscape:connector-curvature=\"0\" sodipodi:nodetypes=\"cccc\" style=\"fill:none;stroke:#000000;stroke-width:3;stroke-linecap:butt;stroke-linejoin:miter;stroke-opacity:1;stroke-miterlimit:4;stroke-dasharray:none\" transform=\"translate(0,652.36218)\"/>\n",
        "    <path d=\"m 120.02515,864.37368 0,-73.62832 53.09735,0 0,72.97678\" id=\"path2993\" inkscape:connector-curvature=\"0\" sodipodi:nodetypes=\"cccc\" style=\"fill:none;stroke:#000000;stroke-width:3;stroke-linecap:butt;stroke-linejoin:miter;stroke-opacity:1;stroke-miterlimit:4;stroke-dasharray:none\"/>\n",
        "    <path d=\"m 146.72783,707.1687 0,82.6184\" id=\"path2995\" inkscape:connector-curvature=\"0\" sodipodi:nodetypes=\"cc\" style=\"fill:none;stroke:#000000;stroke-width:3;stroke-linecap:butt;stroke-linejoin:miter;stroke-opacity:1;stroke-miterlimit:4;stroke-dasharray:none\"/>\n",
        "    <path d=\"m 217.38072,856.8069 50.74471,-13.597\" id=\"path2999\" inkscape:connector-curvature=\"0\" style=\"fill:none;stroke:#000000;stroke-width:3;stroke-linecap:butt;stroke-linejoin:miter;stroke-opacity:1;stroke-miterlimit:4;stroke-dasharray:none\"/>\n",
        "    <path d=\"m 268.11464,843.20326 -50.74471,-13.597\" id=\"path2999-1\" inkscape:connector-curvature=\"0\" style=\"fill:none;stroke:#000000;stroke-width:3;stroke-linecap:butt;stroke-linejoin:miter;stroke-opacity:1;stroke-miterlimit:4;stroke-dasharray:none\"/>\n",
        "    <path d=\"m 217.55238,829.4259 50.74471,-13.597\" id=\"path2999-3\" inkscape:connector-curvature=\"0\" style=\"fill:none;stroke:#000000;stroke-width:3;stroke-linecap:butt;stroke-linejoin:miter;stroke-opacity:1;stroke-miterlimit:4;stroke-dasharray:none\"/>\n",
        "    <path d=\"m 268.2863,815.82226 -50.74471,-13.597\" id=\"path2999-1-3\" inkscape:connector-curvature=\"0\" style=\"fill:none;stroke:#000000;stroke-width:3;stroke-linecap:butt;stroke-linejoin:miter;stroke-opacity:1;stroke-miterlimit:4;stroke-dasharray:none\"/>\n",
        "    <path d=\"m 218.053,802.39313 50.74471,-13.597\" id=\"path2999-3-2\" inkscape:connector-curvature=\"0\" style=\"fill:none;stroke:#000000;stroke-width:3;stroke-linecap:butt;stroke-linejoin:miter;stroke-opacity:1;stroke-miterlimit:4;stroke-dasharray:none\"/>\n",
        "    <path d=\"m 268.78692,788.78949 -50.74471,-13.597\" id=\"path2999-1-3-5\" inkscape:connector-curvature=\"0\" style=\"fill:none;stroke:#000000;stroke-width:3;stroke-linecap:butt;stroke-linejoin:miter;stroke-opacity:1;stroke-miterlimit:4;stroke-dasharray:none\"/>\n",
        "    <path d=\"m 218.5536,775.11007 50.74471,-13.597\" id=\"path2999-3-8\" inkscape:connector-curvature=\"0\" style=\"fill:none;stroke:#000000;stroke-width:3;stroke-linecap:butt;stroke-linejoin:miter;stroke-opacity:1;stroke-miterlimit:4;stroke-dasharray:none\"/>\n",
        "    <path d=\"m 269.28752,761.50643 -50.74471,-13.597\" id=\"path2999-1-3-1\" inkscape:connector-curvature=\"0\" style=\"fill:none;stroke:#000000;stroke-width:3;stroke-linecap:butt;stroke-linejoin:miter;stroke-opacity:1;stroke-miterlimit:4;stroke-dasharray:none\"/>\n",
        "    <path d=\"m 244.79661,55.082073 0,33.290336\" id=\"path3070\" inkscape:connector-curvature=\"0\" sodipodi:nodetypes=\"cc\" style=\"fill:none;stroke:#000000;stroke-width:3;stroke-linecap:butt;stroke-linejoin:miter;stroke-opacity:1;stroke-miterlimit:4;stroke-dasharray:none\" transform=\"translate(0,652.36218)\"/>\n",
        "    <path d=\"m 124.90134,830.59348 42.55156,0\" id=\"path3072\" inkscape:connector-curvature=\"0\" sodipodi:nodetypes=\"cc\" style=\"fill:none;stroke:#000000;stroke-width:3;stroke-linecap:butt;stroke-linejoin:miter;stroke-opacity:1;stroke-miterlimit:4;stroke-dasharray:none\"/>\n",
        "    <path d=\"M 242.02277,863.10943 217.67214,856.5847\" id=\"path2999-1-7\" inkscape:connector-curvature=\"0\" sodipodi:nodetypes=\"cc\" style=\"fill:none;stroke:#000000;stroke-width:3;stroke-linecap:butt;stroke-linejoin:miter;stroke-opacity:1;stroke-miterlimit:4;stroke-dasharray:none\"/>\n",
        "    <path d=\"m 218.67335,747.53309 26.19766,-7.01964\" id=\"path2999-3-8-9\" inkscape:connector-curvature=\"0\" sodipodi:nodetypes=\"cc\" style=\"fill:none;stroke:#000000;stroke-width:3;stroke-linecap:butt;stroke-linejoin:miter;stroke-opacity:1;stroke-miterlimit:4;stroke-dasharray:none\"/>\n",
        "    <path d=\"m 94.159292,695.54802 -19.38348,11.19106\" id=\"path3897\" inkscape:connector-curvature=\"0\" inkscape:tile-cx=\"84.467552\" inkscape:tile-cy=\"48.78137\" inkscape:tile-h=\"11.19106\" inkscape:tile-w=\"19.38348\" inkscape:tile-x0=\"74.775812\" inkscape:tile-y0=\"43.18584\" style=\"fill:none;stroke:#000000;stroke-width:1px;stroke-linecap:butt;stroke-linejoin:miter;stroke-opacity:1\"/>\n",
        "    <use id=\"use3919\" inkscape:tiled-clone-of=\"#path3897\" x=\"0\" xlink:href=\"#path3897\" y=\"0\"/>\n",
        "    <use id=\"use3935\" inkscape:tile-cx=\"84.467552\" inkscape:tile-cy=\"48.78137\" inkscape:tile-h=\"11.19106\" inkscape:tile-w=\"19.38348\" inkscape:tile-x0=\"74.775812\" inkscape:tile-y0=\"43.18584\" inkscape:tiled-clone-of=\"#path3897\" x=\"0\" xlink:href=\"#path3897\" y=\"0\"/>\n",
        "    <use id=\"use4121\" inkscape:tiled-clone-of=\"#use3935\" x=\"0\" xlink:href=\"#use3935\" y=\"0\"/>\n",
        "    <use id=\"use4123\" inkscape:tiled-clone-of=\"#use3935\" transform=\"translate(19.38348,0)\" x=\"0\" xlink:href=\"#use3935\" y=\"0\"/>\n",
        "    <use id=\"use4125\" inkscape:tiled-clone-of=\"#use3935\" transform=\"translate(38.76696,0)\" x=\"0\" xlink:href=\"#use3935\" y=\"0\"/>\n",
        "    <use id=\"use4127\" inkscape:tiled-clone-of=\"#use3935\" transform=\"translate(58.15044,0)\" x=\"0\" xlink:href=\"#use3935\" y=\"0\"/>\n",
        "    <use id=\"use4129\" inkscape:tiled-clone-of=\"#use3935\" transform=\"translate(77.53392,0)\" x=\"0\" xlink:href=\"#use3935\" y=\"0\"/>\n",
        "    <use id=\"use4131\" inkscape:tiled-clone-of=\"#use3935\" transform=\"translate(96.9174,0)\" x=\"0\" xlink:href=\"#use3935\" y=\"0\"/>\n",
        "    <use id=\"use4133\" inkscape:tiled-clone-of=\"#use3935\" transform=\"translate(116.30088,0)\" x=\"0\" xlink:href=\"#use3935\" y=\"0\"/>\n",
        "    <use id=\"use4135\" inkscape:tiled-clone-of=\"#use3935\" transform=\"translate(135.68436,0)\" x=\"0\" xlink:href=\"#use3935\" y=\"0\"/>\n",
        "    <use id=\"use4137\" inkscape:tiled-clone-of=\"#use3935\" transform=\"translate(155.06784,0)\" x=\"0\" xlink:href=\"#use3935\" y=\"0\"/>\n",
        "    <use id=\"use4139\" inkscape:tiled-clone-of=\"#use3935\" transform=\"translate(174.45132,0)\" x=\"0\" xlink:href=\"#use3935\" y=\"0\"/>\n",
        "    <use id=\"use4141\" inkscape:tiled-clone-of=\"#use3935\" transform=\"translate(193.8348,0)\" x=\"0\" xlink:href=\"#use3935\" y=\"0\"/>\n",
        "    <use id=\"use4143\" inkscape:tiled-clone-of=\"#use3935\" transform=\"translate(213.21828,0)\" x=\"0\" xlink:href=\"#use3935\" y=\"0\"/>\n",
        "    <use id=\"use4145\" inkscape:tiled-clone-of=\"#use3935\" transform=\"translate(232.60176,0)\" x=\"0\" xlink:href=\"#use3935\" y=\"0\"/>\n",
        "    <g id=\"g4309\" ns0:preamble=\"\" ns0:text=\"$m$\" transform=\"matrix(2,0,0,2,-208.26353,709.27877)\">\n",
        "      <defs id=\"defs4311\">\n",
        "        <g id=\"g4313\">\n",
        "          <symbol id=\"textext-08e211e0-0\" overflow=\"visible\" style=\"overflow:visible\">\n",
        "            <path d=\"\" id=\"path4316\" inkscape:connector-curvature=\"0\" style=\"stroke:none\"/>\n",
        "          </symbol>\n",
        "          <symbol id=\"textext-08e211e0-1\" overflow=\"visible\" style=\"overflow:visible\">\n",
        "            <path d=\"m 0.875,-0.59375 c -0.03125,0.15625 -0.09375,0.390625 -0.09375,0.4375 0,0.171875 0.140625,0.265625 0.296875,0.265625 0.125,0 0.296875,-0.078125 0.375,-0.28125 0,-0.015625 0.125,-0.484375 0.1875,-0.734375 l 0.21875,-0.890625 C 1.90625,-2.03125 1.96875,-2.25 2.03125,-2.46875 c 0.03125,-0.171875 0.109375,-0.46875 0.125,-0.5 0.140625,-0.3125 0.671875,-1.21875 1.625,-1.21875 0.453125,0 0.53125,0.375 0.53125,0.703125 0,0.25 -0.0625,0.53125 -0.140625,0.828125 L 3.890625,-1.5 3.6875,-0.75 c -0.03125,0.203125 -0.125,0.546875 -0.125,0.59375 0,0.171875 0.140625,0.265625 0.28125,0.265625 0.3125,0 0.375,-0.25 0.453125,-0.5625 0.140625,-0.5625 0.515625,-2.015625 0.59375,-2.40625 0.03125,-0.125 0.5625,-1.328125 1.65625,-1.328125 0.421875,0 0.53125,0.34375 0.53125,0.703125 0,0.5625 -0.421875,1.703125 -0.625,2.234375 -0.078125,0.234375 -0.125,0.34375 -0.125,0.546875 0,0.46875 0.34375,0.8125 0.8125,0.8125 0.9375,0 1.3125,-1.453125 1.3125,-1.53125 0,-0.109375 -0.09375,-0.109375 -0.125,-0.109375 -0.09375,0 -0.09375,0.03125 -0.140625,0.1875 -0.15625,0.53125 -0.46875,1.234375 -1.015625,1.234375 -0.171875,0 -0.25,-0.09375 -0.25,-0.328125 0,-0.25 0.09375,-0.484375 0.1875,-0.703125 0.1875,-0.53125 0.609375,-1.625 0.609375,-2.203125 0,-0.640625 -0.40625,-1.0625 -1.15625,-1.0625 -0.734375,0 -1.25,0.4375 -1.625,0.96875 0,-0.125 -0.03125,-0.46875 -0.3125,-0.703125 -0.25,-0.21875 -0.5625,-0.265625 -0.8125,-0.265625 -0.90625,0 -1.390625,0.640625 -1.5625,0.875 -0.046875,-0.578125 -0.46875,-0.875 -0.921875,-0.875 -0.453125,0 -0.640625,0.390625 -0.734375,0.5625 -0.171875,0.359375 -0.296875,0.9375 -0.296875,0.96875 0,0.109375 0.09375,0.109375 0.109375,0.109375 0.109375,0 0.109375,-0.015625 0.171875,-0.234375 0.171875,-0.703125 0.375,-1.1875 0.734375,-1.1875 0.15625,0 0.296875,0.078125 0.296875,0.453125 0,0.21875 -0.03125,0.328125 -0.15625,0.84375 z\" id=\"path4319\" inkscape:connector-curvature=\"0\" style=\"stroke:none\"/>\n",
        "          </symbol>\n",
        "        </g>\n",
        "      </defs>\n",
        "      <g id=\"textext-08e211e0-2\">\n",
        "        <g id=\"g4322\" style=\"fill:#000000;fill-opacity:1\">\n",
        "          <use height=\"400\" id=\"use4324\" width=\"400\" x=\"223.43201\" xlink:href=\"#textext-08e211e0-1\" y=\"134.765\"/>\n",
        "        </g>\n",
        "      </g>\n",
        "    </g>\n",
        "    <g id=\"g4422\" ns0:preamble=\"\" ns0:text=\"$c$\" transform=\"matrix(2,0,0,2,-346.05561,543.41648)\">\n",
        "      <defs id=\"defs4424\">\n",
        "        <g id=\"g4426\">\n",
        "          <symbol id=\"textext-2f24d870-0\" overflow=\"visible\" style=\"overflow:visible\">\n",
        "            <path d=\"\" id=\"path4429\" inkscape:connector-curvature=\"0\" style=\"stroke:none\"/>\n",
        "          </symbol>\n",
        "          <symbol id=\"textext-2f24d870-1\" overflow=\"visible\" style=\"overflow:visible\">\n",
        "            <path d=\"m 3.953125,-3.78125 c -0.171875,0 -0.296875,0 -0.4375,0.125 -0.171875,0.15625 -0.1875,0.328125 -0.1875,0.390625 0,0.25 0.1875,0.359375 0.375,0.359375 0.28125,0 0.546875,-0.25 0.546875,-0.640625 0,-0.484375 -0.46875,-0.859375 -1.171875,-0.859375 -1.34375,0 -2.671875,1.421875 -2.671875,2.828125 0,0.90625 0.578125,1.6875 1.625,1.6875 1.421875,0 2.25,-1.0625 2.25,-1.171875 0,-0.0625 -0.046875,-0.140625 -0.109375,-0.140625 -0.0625,0 -0.078125,0.03125 -0.140625,0.109375 -0.78125,0.984375 -1.875,0.984375 -1.984375,0.984375 -0.625,0 -0.90625,-0.484375 -0.90625,-1.09375 0,-0.40625 0.203125,-1.375 0.546875,-1.984375 0.3125,-0.578125 0.859375,-1 1.40625,-1 0.328125,0 0.71875,0.125 0.859375,0.40625 z\" id=\"path4432\" inkscape:connector-curvature=\"0\" style=\"stroke:none\"/>\n",
        "          </symbol>\n",
        "        </g>\n",
        "      </defs>\n",
        "      <g id=\"textext-2f24d870-2\">\n",
        "        <g id=\"g4435\" style=\"fill:#000000;fill-opacity:1\">\n",
        "          <use height=\"400\" id=\"use4437\" width=\"400\" x=\"223.43201\" xlink:href=\"#textext-2f24d870-1\" y=\"134.765\"/>\n",
        "        </g>\n",
        "      </g>\n",
        "    </g>\n",
        "    <g id=\"g4555\" ns0:preamble=\"\" ns0:text=\"$k$\" transform=\"matrix(2,0,0,2,-167.19648,535.69871)\">\n",
        "      <defs id=\"defs4557\">\n",
        "        <g id=\"g4559\">\n",
        "          <symbol id=\"textext-98de1750-0\" overflow=\"visible\" style=\"overflow:visible\">\n",
        "            <path d=\"\" id=\"path4562\" inkscape:connector-curvature=\"0\" style=\"stroke:none\"/>\n",
        "          </symbol>\n",
        "          <symbol id=\"textext-98de1750-1\" overflow=\"visible\" style=\"overflow:visible\">\n",
        "            <path d=\"m 2.859375,-6.8125 c 0,0 0,-0.109375 -0.125,-0.109375 -0.234375,0 -0.953125,0.078125 -1.21875,0.109375 -0.078125,0 -0.1875,0.015625 -0.1875,0.1875 0,0.125 0.09375,0.125 0.234375,0.125 0.484375,0 0.5,0.0625 0.5,0.171875 L 2.03125,-6.125 0.59375,-0.390625 c -0.046875,0.140625 -0.046875,0.15625 -0.046875,0.21875 0,0.234375 0.203125,0.28125 0.296875,0.28125 0.125,0 0.265625,-0.09375 0.328125,-0.203125 0.046875,-0.09375 0.5,-1.9375 0.5625,-2.1875 0.34375,0.03125 1.15625,0.1875 1.15625,0.84375 0,0.078125 0,0.109375 -0.03125,0.21875 -0.015625,0.109375 -0.03125,0.234375 -0.03125,0.34375 0,0.578125 0.390625,0.984375 0.90625,0.984375 0.296875,0 0.578125,-0.15625 0.796875,-0.53125 0.25,-0.4375 0.359375,-0.984375 0.359375,-1 0,-0.109375 -0.09375,-0.109375 -0.125,-0.109375 -0.09375,0 -0.109375,0.046875 -0.140625,0.1875 -0.203125,0.71875 -0.421875,1.234375 -0.859375,1.234375 -0.203125,0 -0.328125,-0.109375 -0.328125,-0.46875 0,-0.171875 0.046875,-0.40625 0.078125,-0.5625 C 3.5625,-1.3125 3.5625,-1.34375 3.5625,-1.453125 3.5625,-2.09375 2.9375,-2.375 2.078125,-2.5 2.390625,-2.671875 2.71875,-2.984375 2.9375,-3.234375 3.421875,-3.765625 3.875,-4.1875 4.359375,-4.1875 c 0.0625,0 0.078125,0 0.09375,0.015625 0.125,0.015625 0.125,0.015625 0.21875,0.078125 0.015625,0 0.015625,0.015625 0.03125,0.03125 -0.46875,0.03125 -0.5625,0.421875 -0.5625,0.546875 0,0.15625 0.109375,0.34375 0.375,0.34375 0.265625,0 0.546875,-0.21875 0.546875,-0.609375 0,-0.296875 -0.234375,-0.625 -0.671875,-0.625 -0.28125,0 -0.734375,0.078125 -1.453125,0.875 -0.34375,0.375 -0.734375,0.78125 -1.109375,0.921875 z\" id=\"path4565\" inkscape:connector-curvature=\"0\" style=\"stroke:none\"/>\n",
        "          </symbol>\n",
        "        </g>\n",
        "      </defs>\n",
        "      <g id=\"textext-98de1750-2\">\n",
        "        <g id=\"g4568\" style=\"fill:#000000;fill-opacity:1\">\n",
        "          <use height=\"400\" id=\"use4570\" width=\"400\" x=\"223.43201\" xlink:href=\"#textext-98de1750-1\" y=\"134.765\"/>\n",
        "        </g>\n",
        "      </g>\n",
        "    </g>\n",
        "    <g id=\"g4708\" ns0:preamble=\"\" ns0:text=\"$g$\" transform=\"matrix(2,0,0,2,-86.228927,567.28988)\">\n",
        "      <defs id=\"defs4710\">\n",
        "        <g id=\"g4712\">\n",
        "          <symbol id=\"textext-ee8938ff-0\" overflow=\"visible\" style=\"overflow:visible\">\n",
        "            <path d=\"\" id=\"path4715\" inkscape:connector-curvature=\"0\" style=\"stroke:none\"/>\n",
        "          </symbol>\n",
        "          <symbol id=\"textext-ee8938ff-1\" overflow=\"visible\" style=\"overflow:visible\">\n",
        "            <path d=\"M 4.6875,-3.765625 C 4.703125,-3.8125 4.71875,-3.875 4.71875,-3.9375 c 0,-0.171875 -0.109375,-0.265625 -0.28125,-0.265625 -0.09375,0 -0.375,0.0625 -0.40625,0.421875 -0.1875,-0.359375 -0.53125,-0.625 -0.9375,-0.625 -1.125,0 -2.359375,1.390625 -2.359375,2.828125 0,0.984375 0.59375,1.578125 1.3125,1.578125 0.59375,0 1.0625,-0.46875 1.15625,-0.578125 L 3.21875,-0.5625 C 3.015625,0.3125 2.890625,0.734375 2.890625,0.75 2.84375,0.84375 2.515625,1.828125 1.453125,1.828125 1.265625,1.828125 0.9375,1.8125 0.65625,1.71875 0.953125,1.640625 1.0625,1.375 1.0625,1.203125 c 0,-0.15625 -0.109375,-0.34375 -0.375,-0.34375 -0.21875,0 -0.53125,0.171875 -0.53125,0.578125 0,0.40625 0.359375,0.609375 1.3125,0.609375 1.25,0 1.96875,-0.78125 2.125,-1.375 z M 3.40625,-1.28125 C 3.34375,-1.015625 3.109375,-0.765625 2.890625,-0.578125 2.6875,-0.40625 2.375,-0.21875 2.078125,-0.21875 c -0.5,0 -0.640625,-0.515625 -0.640625,-0.921875 0,-0.46875 0.28125,-1.65625 0.5625,-2.15625 C 2.265625,-3.78125 2.6875,-4.1875 3.109375,-4.1875 c 0.65625,0 0.796875,0.8125 0.796875,0.859375 0,0.046875 -0.015625,0.109375 -0.03125,0.140625 z\" id=\"path4718\" inkscape:connector-curvature=\"0\" style=\"stroke:none\"/>\n",
        "          </symbol>\n",
        "        </g>\n",
        "      </defs>\n",
        "      <g id=\"textext-ee8938ff-2\">\n",
        "        <g id=\"g4721\" style=\"fill:#000000;fill-opacity:1\">\n",
        "          <use height=\"400\" id=\"use4723\" width=\"400\" x=\"223.43201\" xlink:href=\"#textext-ee8938ff-1\" y=\"134.765\"/>\n",
        "        </g>\n",
        "      </g>\n",
        "    </g>\n",
        "    <path d=\"m 83.280852,56.601681 0,243.353139\" id=\"path4802\" inkscape:connector-curvature=\"0\" sodipodi:nodetypes=\"cc\" style=\"fill:none;stroke:#000000;stroke-width:1px;stroke-linecap:butt;stroke-linejoin:miter;stroke-opacity:1;marker-end:url(#Arrow1Lend)\" transform=\"translate(0,652.36218)\"/>\n",
        "    <path d=\"m 154.66444,301.57717 -93.555763,0\" id=\"path4804\" inkscape:connector-curvature=\"0\" sodipodi:nodetypes=\"cc\" style=\"fill:none;stroke:#000000;stroke-width:1px;stroke-linecap:butt;stroke-linejoin:miter;stroke-opacity:1\" transform=\"translate(0,652.36218)\"/>\n",
        "    <path d=\"m 344.47989,178.27825 0,79.49536\" id=\"path4806\" inkscape:connector-curvature=\"0\" style=\"fill:none;stroke:#000000;stroke-width:4;stroke-linecap:butt;stroke-linejoin:miter;stroke-opacity:1;marker-end:url(#Arrow1Mend);stroke-miterlimit:4;stroke-dasharray:none\" transform=\"translate(0,652.36218)\"/>\n",
        "    <g id=\"g5706\" ns0:preamble=\"\" ns0:text=\"$x$, $v$\" transform=\"matrix(2,0,0,2,-403.90337,570.00071)\">\n",
        "      <defs id=\"defs5708\">\n",
        "        <g id=\"g5710\">\n",
        "          <symbol id=\"textext-5464613c-0\" overflow=\"visible\" style=\"overflow:visible\">\n",
        "            <path d=\"\" id=\"path5713\" inkscape:connector-curvature=\"0\" style=\"stroke:none\"/>\n",
        "          </symbol>\n",
        "          <symbol id=\"textext-5464613c-1\" overflow=\"visible\" style=\"overflow:visible\">\n",
        "            <path d=\"M 3.328125,-3.015625 C 3.390625,-3.265625 3.625,-4.1875 4.3125,-4.1875 c 0.046875,0 0.296875,0 0.5,0.125 C 4.53125,-4 4.34375,-3.765625 4.34375,-3.515625 c 0,0.15625 0.109375,0.34375 0.375,0.34375 0.21875,0 0.53125,-0.171875 0.53125,-0.578125 0,-0.515625 -0.578125,-0.65625 -0.921875,-0.65625 -0.578125,0 -0.921875,0.53125 -1.046875,0.75 -0.25,-0.65625 -0.78125,-0.75 -1.078125,-0.75 -1.03125,0 -1.609375,1.28125 -1.609375,1.53125 0,0.109375 0.109375,0.109375 0.125,0.109375 0.078125,0 0.109375,-0.03125 0.125,-0.109375 0.34375,-1.0625 1,-1.3125 1.34375,-1.3125 0.1875,0 0.53125,0.09375 0.53125,0.671875 0,0.3125 -0.171875,0.96875 -0.53125,2.375 -0.15625,0.609375 -0.515625,1.03125 -0.953125,1.03125 -0.0625,0 -0.28125,0 -0.5,-0.125 0.25,-0.0625 0.46875,-0.265625 0.46875,-0.546875 0,-0.265625 -0.21875,-0.34375 -0.359375,-0.34375 -0.3125,0 -0.546875,0.25 -0.546875,0.578125 0,0.453125 0.484375,0.65625 0.921875,0.65625 0.671875,0 1.03125,-0.703125 1.046875,-0.75 0.125,0.359375 0.484375,0.75 1.078125,0.75 1.03125,0 1.59375,-1.28125 1.59375,-1.53125 0,-0.109375 -0.078125,-0.109375 -0.109375,-0.109375 -0.09375,0 -0.109375,0.046875 -0.140625,0.109375 -0.328125,1.078125 -1,1.3125 -1.3125,1.3125 -0.390625,0 -0.546875,-0.3125 -0.546875,-0.65625 0,-0.21875 0.046875,-0.4375 0.15625,-0.875 z\" id=\"path5716\" inkscape:connector-curvature=\"0\" style=\"stroke:none\"/>\n",
        "          </symbol>\n",
        "          <symbol id=\"textext-5464613c-2\" overflow=\"visible\" style=\"overflow:visible\">\n",
        "            <path d=\"m 4.671875,-3.703125 c 0,-0.546875 -0.265625,-0.703125 -0.4375,-0.703125 -0.25,0 -0.5,0.265625 -0.5,0.484375 0,0.125 0.046875,0.1875 0.15625,0.296875 0.21875,0.203125 0.34375,0.453125 0.34375,0.8125 0,0.421875 -0.609375,2.703125 -1.765625,2.703125 -0.515625,0 -0.75,-0.34375 -0.75,-0.875 0,-0.546875 0.28125,-1.28125 0.578125,-2.109375 0.078125,-0.171875 0.125,-0.3125 0.125,-0.5 0,-0.4375 -0.3125,-0.8125 -0.8125,-0.8125 -0.9375,0 -1.3125,1.453125 -1.3125,1.53125 0,0.109375 0.09375,0.109375 0.109375,0.109375 0.109375,0 0.109375,-0.03125 0.15625,-0.1875 0.296875,-1 0.71875,-1.234375 1.015625,-1.234375 0.078125,0 0.25,0 0.25,0.3125 0,0.25 -0.109375,0.53125 -0.171875,0.703125 -0.4375,1.15625 -0.5625,1.609375 -0.5625,2.046875 0,1.078125 0.875,1.234375 1.328125,1.234375 1.671875,0 2.25,-3.296875 2.25,-3.8125 z\" id=\"path5719\" inkscape:connector-curvature=\"0\" style=\"stroke:none\"/>\n",
        "          </symbol>\n",
        "          <symbol id=\"textext-5464613c-3\" overflow=\"visible\" style=\"overflow:visible\">\n",
        "            <path d=\"\" id=\"path5722\" inkscape:connector-curvature=\"0\" style=\"stroke:none\"/>\n",
        "          </symbol>\n",
        "          <symbol id=\"textext-5464613c-4\" overflow=\"visible\" style=\"overflow:visible\">\n",
        "            <path d=\"m 2.03125,-0.015625 c 0,-0.625 -0.25,-1.046875 -0.640625,-1.046875 -0.359375,0 -0.53125,0.28125 -0.53125,0.53125 0,0.265625 0.171875,0.53125 0.53125,0.53125 0.15625,0 0.28125,-0.0625 0.375,-0.140625 L 1.78125,-0.15625 c 0.015625,0 0.015625,0 0.015625,0.140625 0,0.640625 -0.265625,1.25 -0.703125,1.71875 -0.0625,0.0625 -0.078125,0.078125 -0.078125,0.109375 0,0.078125 0.046875,0.109375 0.09375,0.109375 0.125,0 0.921875,-0.78125 0.921875,-1.9375 z\" id=\"path5725\" inkscape:connector-curvature=\"0\" style=\"stroke:none\"/>\n",
        "          </symbol>\n",
        "        </g>\n",
        "      </defs>\n",
        "      <g id=\"textext-5464613c-5\">\n",
        "        <g id=\"g5728\" style=\"fill:#000000;fill-opacity:1\">\n",
        "          <use height=\"400\" id=\"use5730\" width=\"400\" x=\"223.43201\" xlink:href=\"#textext-5464613c-1\" y=\"134.765\"/>\n",
        "        </g>\n",
        "        <g id=\"g5732\" style=\"fill:#000000;fill-opacity:1\">\n",
        "          <use height=\"400\" id=\"use5734\" width=\"400\" x=\"229.12601\" xlink:href=\"#textext-5464613c-4\" y=\"134.765\"/>\n",
        "        </g>\n",
        "        <g id=\"g5736\" style=\"fill:#000000;fill-opacity:1\">\n",
        "          <use height=\"400\" id=\"use5738\" width=\"400\" x=\"235.214\" xlink:href=\"#textext-5464613c-2\" y=\"134.765\"/>\n",
        "        </g>\n",
        "      </g>\n",
        "    </g>\n",
        "  </g>\n",
        "</svg>"
       ],
       "text": [
        "<IPython.core.display.SVG object>"
       ]
      }
     ],
     "prompt_number": 121
    },
    {
     "cell_type": "markdown",
     "metadata": {},
     "source": [
      "Start by loading in the core functionality of both SymPy and Mechanics."
     ]
    },
    {
     "cell_type": "code",
     "collapsed": false,
     "input": [
      "import sympy as sym\n",
      "import sympy.physics.mechanics as me"
     ],
     "language": "python",
     "metadata": {},
     "outputs": [],
     "prompt_number": 122
    },
    {
     "cell_type": "markdown",
     "metadata": {},
     "source": [
      "We can make use of the pretty printing of our results by loading the mechanics printing extension"
     ]
    },
    {
     "cell_type": "code",
     "collapsed": false,
     "input": [
      "me.mechanics_printing()"
     ],
     "language": "python",
     "metadata": {},
     "outputs": [
      {
       "output_type": "stream",
       "stream": "stderr",
       "text": [
        "/usr/local/lib/python2.7/dist-packages/sympy-0.7.5-py2.7.egg/sympy/physics/mechanics/functions.py:58: SymPyDeprecationWarning: \n",
        "\n",
        "See the doc string for slight changes to this function: keyword args\n",
        "may be needed for the desired effect. Otherwise use\n",
        "sympy.physics.vector.init_vprinting directly.\n",
        "\n",
        "  SymPyDeprecationWarning(filldedent(msg)).warn()\n"
       ]
      }
     ],
     "prompt_number": 123
    },
    {
     "cell_type": "markdown",
     "metadata": {},
     "source": [
      "We'll start by defining the variables will need for this problem. $x$ is the distance of the particle from the ceiling, $v$ is the speed of the particle, $m$ is the mass of the particle, $c$ is the damping coefficient of the damper, $k$ is the stiffness of the spring, $g$ is the acceleration due to gravity, and $t$ represents time."
     ]
    },
    {
     "cell_type": "code",
     "collapsed": true,
     "input": [
      "y, v = me.dynamicsymbols('y v')"
     ],
     "language": "python",
     "metadata": {},
     "outputs": [],
     "prompt_number": 124
    },
    {
     "cell_type": "code",
     "collapsed": true,
     "input": [
      "m, c, k, g, t = sym.symbols('m c k g t')"
     ],
     "language": "python",
     "metadata": {},
     "outputs": [],
     "prompt_number": 125
    },
    {
     "cell_type": "markdown",
     "metadata": {},
     "source": [
      "Now, we define a Newtonian reference frame that represents the ceiling which the particle is attached to, $C$."
     ]
    },
    {
     "cell_type": "code",
     "collapsed": true,
     "input": [
      "ceiling = me.ReferenceFrame('C')"
     ],
     "language": "python",
     "metadata": {},
     "outputs": [],
     "prompt_number": 126
    },
    {
     "cell_type": "markdown",
     "metadata": {},
     "source": [
      "We will need two points, one to represent the original position of the particle which stays fixed in the ceiling frame, $o$, and the second one, $p$ which is aligned with the particle as it moves."
     ]
    },
    {
     "cell_type": "code",
     "collapsed": true,
     "input": [
      "o = me.Point('o')\n",
      "p = me.Point('p')"
     ],
     "language": "python",
     "metadata": {},
     "outputs": [],
     "prompt_number": 127
    },
    {
     "cell_type": "markdown",
     "metadata": {},
     "source": [
      "The velocity of point $o$ in the ceiling is zero."
     ]
    },
    {
     "cell_type": "code",
     "collapsed": false,
     "input": [
      "o.set_vel(ceiling, 0)"
     ],
     "language": "python",
     "metadata": {},
     "outputs": [],
     "prompt_number": 128
    },
    {
     "cell_type": "markdown",
     "metadata": {},
     "source": [
      "Point $p$ can move downward in the $y$ direction and it's velocity is $v$ in the downward direction."
     ]
    },
    {
     "cell_type": "code",
     "collapsed": false,
     "input": [
      "p.set_pos(o, -y * ceiling.y)\n",
      "p.set_vel(ceiling, v * ceiling.y)\n",
      "p.vel(ceiling)"
     ],
     "language": "python",
     "metadata": {},
     "outputs": [
      {
       "latex": [
        "$$v\\mathbf{\\hat{c}_y}$$"
       ],
       "metadata": {},
       "output_type": "pyout",
       "png": "[encoded data removed]",
       "prompt_number": 164,
       "text": [
        "v \u001b[94m\u001b[1mc_y\u001b[0;0m\u001b[0;0m"
       ]
      }
     ],
     "prompt_number": 164
    },
    {
     "cell_type": "markdown",
     "metadata": {},
     "source": [
      "There are three forces acting on the particle. Those due to the acceleration of gravity, the damper, and the spring."
     ]
    },
    {
     "cell_type": "code",
     "collapsed": false,
     "input": [
      "damping = c * p.vel(ceiling)\n",
      "stiffness = -k * p.pos_from(o)\n",
      "gravity = -m * g * ceiling.y\n",
      "forces = damping + stiffness + gravity"
     ],
     "language": "python",
     "metadata": {},
     "outputs": [],
     "prompt_number": 216
    },
    {
     "cell_type": "markdown",
     "metadata": {},
     "source": [
      "Now we can use Newton's second law, $0=F-ma$, to form the equation of motion of the system."
     ]
    },
    {
     "cell_type": "code",
     "collapsed": false,
     "input": [
      "zero = me.dot(forces - m * p.acc(ceiling), ceiling.y)\n",
      "zero"
     ],
     "language": "python",
     "metadata": {},
     "outputs": [
      {
       "latex": [
        "$$c v - g m + k y - m \\dot{v}$$"
       ],
       "metadata": {},
       "output_type": "pyout",
       "png": "[encoded data removed]",
       "prompt_number": 218,
       "text": [
        "c\u22c5v - g\u22c5m + k\u22c5y - m\u22c5v\u0307"
       ]
      }
     ],
     "prompt_number": 218
    },
    {
     "cell_type": "markdown",
     "metadata": {},
     "source": [
      "We can then form the first order equations of motion by solving for $\\frac{dv}{dt}$ and introducing the kinematical differential equation, $v=\\frac{dx}{dt}$."
     ]
    },
    {
     "cell_type": "code",
     "collapsed": true,
     "input": [
      "dvdt = sym.solve(zero, v.diff(t))[0]\n",
      "dxdt = v\n",
      "dvdt, dxdt"
     ],
     "language": "python",
     "metadata": {},
     "outputs": [
      {
       "output_type": "stream",
       "stream": "stderr",
       "text": [
        "/media/tarun/6A86CA8286CA4DEF/develop/ipython-main/IPython/core/formatters.py:239: FormatterWarning: Exception in image/png formatter: \n",
        "\\begin{pmatrix}\\left(c v - g m + k y\\right) / m, & v\\end{pmatrix}\n",
        "^\n",
        "Unknown symbol: \\begin (at char 0), (line:1, col:1)\n",
        "  FormatterWarning,\n"
       ]
      },
      {
       "latex": [
        "$$\\begin{pmatrix}\\frac{1}{m} \\left(c v - g m + k y\\right), & v\\end{pmatrix}$$"
       ],
       "metadata": {},
       "output_type": "pyout",
       "prompt_number": 219,
       "text": [
        "\u239bc\u22c5v - g\u22c5m + k\u22c5y   \u239e\n",
        "\u239c\u2500\u2500\u2500\u2500\u2500\u2500\u2500\u2500\u2500\u2500\u2500\u2500\u2500\u2500\u2500, v\u239f\n",
        "\u239d       m          \u23a0"
       ]
      }
     ],
     "prompt_number": 219
    },
    {
     "cell_type": "markdown",
     "metadata": {},
     "source": [
      "Forming the equations of motion can also be done with the automated methods available in the Mechanics package: `LagrangesMethod` and `KanesMethod`. Here we will make use of Kane's method to find the same equations of motion which we found manually above. First define a particle which represents the mass attached to the damper and spring."
     ]
    },
    {
     "cell_type": "code",
     "collapsed": false,
     "input": [
      "mass = me.Particle('mass', p, m)"
     ],
     "language": "python",
     "metadata": {},
     "outputs": [],
     "prompt_number": 220
    },
    {
     "cell_type": "markdown",
     "metadata": {},
     "source": [
      "Now we can construct a `KanesMethod` object by passing in the generalized coordinate, $x$, the generalized speed, $v$, and the kinematical differential equation which relates the two, $0=v-\\frac{dx}{dt}$."
     ]
    },
    {
     "cell_type": "code",
     "collapsed": false,
     "input": [
      "kane = me.KanesMethod(ceiling, q_ind=[y], u_ind=[v], kd_eqs=[v - y.diff(t)])"
     ],
     "language": "python",
     "metadata": {},
     "outputs": [],
     "prompt_number": 221
    },
    {
     "cell_type": "markdown",
     "metadata": {},
     "source": [
      "Now Kane's equations can be computed which returns $F_r$ and $F_r^*$."
     ]
    },
    {
     "cell_type": "code",
     "collapsed": false,
     "input": [
      "fr, frstar = kane.kanes_equations([(p, forces)], [mass])\n",
      "print fr\n",
      "print frstar"
     ],
     "language": "python",
     "metadata": {},
     "outputs": [
      {
       "output_type": "stream",
       "stream": "stdout",
       "text": [
        "Matrix([[c*v(t) - g*m + k*y(t)]])\n",
        "Matrix([[-m*Derivative(v(t), t)]])\n"
       ]
      }
     ],
     "prompt_number": 222
    },
    {
     "cell_type": "markdown",
     "metadata": {},
     "source": [
      "The equations are also available in the form $M\\frac{dq,u}{dt}=f(\\dot{u}, u, q)$ and we can extract the mass matrix, $M$, and the forcing equations, $f$."
     ]
    },
    {
     "cell_type": "code",
     "collapsed": false,
     "input": [
      "M = kane.mass_matrix_full\n",
      "f = kane.forcing_full\n",
      "M, f"
     ],
     "language": "python",
     "metadata": {},
     "outputs": [
      {
       "output_type": "stream",
       "stream": "stderr",
       "text": [
        "/media/tarun/6A86CA8286CA4DEF/develop/ipython-main/IPython/core/formatters.py:239: FormatterWarning: Exception in image/png formatter: \n",
        "\\begin{pmatrix}\\left[\\begin{smallmatrix}1 & 0\\\\0 & m\\end{smallmatrix}\\right], & \\left[\\begin{smallmatrix}v\\\\c v - g m + k y\\end{smallmatrix}\\right]\\end{pmatrix}\n",
        "^\n",
        "Unknown symbol: \\begin (at char 0), (line:1, col:1)\n",
        "  FormatterWarning,\n"
       ]
      },
      {
       "latex": [
        "$$\\begin{pmatrix}\\left[\\begin{matrix}1 & 0\\\\0 & m\\end{matrix}\\right], & \\left[\\begin{matrix}v\\\\c v - g m + k y\\end{matrix}\\right]\\end{pmatrix}$$"
       ],
       "metadata": {},
       "output_type": "pyout",
       "prompt_number": 223,
       "text": [
        "\u239b\u23a11  0\u23a4, \u23a1       v       \u23a4\u239e\n",
        "\u239c\u23a2    \u23a5  \u23a2               \u23a5\u239f\n",
        "\u239d\u23a30  m\u23a6  \u23a3c\u22c5v - g\u22c5m + k\u22c5y\u23a6\u23a0"
       ]
      }
     ],
     "prompt_number": 223
    },
    {
     "cell_type": "markdown",
     "metadata": {},
     "source": [
      "Finally, we can form the first order differential equations of motion $\\frac{dq,u}{dt}=M^{-1}f(\\dot{u}, u, q)$, which is the same as previously found."
     ]
    },
    {
     "cell_type": "code",
     "collapsed": false,
     "input": [
      "M.inv() * f"
     ],
     "language": "python",
     "metadata": {},
     "outputs": [
      {
       "output_type": "stream",
       "stream": "stderr",
       "text": [
        "/media/tarun/6A86CA8286CA4DEF/develop/ipython-main/IPython/core/formatters.py:239: FormatterWarning: Exception in image/png formatter: \n",
        "\\left[\\begin{smallmatrix}v\\\\\\left(c v - g m + k y\\right) / m\\end{smallmatrix}\\right]\n",
        "      ^\n",
        "Expected \"\\right\" (at char 6), (line:1, col:7)\n",
        "  FormatterWarning,\n"
       ]
      },
      {
       "latex": [
        "$$\\left[\\begin{matrix}v\\\\\\frac{1}{m} \\left(c v - g m + k y\\right)\\end{matrix}\\right]$$"
       ],
       "metadata": {},
       "output_type": "pyout",
       "prompt_number": 224,
       "text": [
        "\u23a1       v       \u23a4\n",
        "\u23a2               \u23a5\n",
        "\u23a2c\u22c5v - g\u22c5m + k\u22c5y\u23a5\n",
        "\u23a2\u2500\u2500\u2500\u2500\u2500\u2500\u2500\u2500\u2500\u2500\u2500\u2500\u2500\u2500\u2500\u23a5\n",
        "\u23a3       m       \u23a6"
       ]
      }
     ],
     "prompt_number": 224
    },
    {
     "cell_type": "markdown",
     "metadata": {},
     "source": [
      "#Simulating the system#"
     ]
    },
    {
     "cell_type": "markdown",
     "metadata": {},
     "source": [
      "Now we have defined a mass-spring-damper system, we are going to simulate it.\n",
      "\n",
      "PyDy's `System` is a wrapper, which holds the Kanes object to generate EoMs, and the numerical values of constants and states to carry out the simulation."
     ]
    },
    {
     "cell_type": "code",
     "collapsed": false,
     "input": [
      "from pydy.system import System"
     ],
     "language": "python",
     "metadata": {},
     "outputs": [],
     "prompt_number": 225
    },
    {
     "cell_type": "code",
     "collapsed": false,
     "input": [
      "sys = System(kane)    #Initializing System with the Kane's object"
     ],
     "language": "python",
     "metadata": {},
     "outputs": [],
     "prompt_number": 226
    },
    {
     "cell_type": "markdown",
     "metadata": {},
     "source": [
      "Now, We specify the numerical values of the constants and the initial values of states in the form of a dict"
     ]
    },
    {
     "cell_type": "code",
     "collapsed": false,
     "input": [
      "constants = {m:10, g:9.8, c:12, k:12}    \n",
      "init_conditions = {y:0, v:0}\n",
      "\n",
      "sys.constants = constants\n",
      "sys.initial_conditions = init_conditions"
     ],
     "language": "python",
     "metadata": {},
     "outputs": [],
     "prompt_number": 227
    },
    {
     "cell_type": "markdown",
     "metadata": {},
     "source": [
      "Generating a time vector over which the integration would be carried out."
     ]
    },
    {
     "cell_type": "code",
     "collapsed": false,
     "input": [
      "import numpy as np\n",
      "sys.times = np.linspace(0,5,100)"
     ],
     "language": "python",
     "metadata": {},
     "outputs": [],
     "prompt_number": 228
    },
    {
     "cell_type": "code",
     "collapsed": false,
     "input": [
      "x0 = sys.integrate()\n",
      "x0"
     ],
     "language": "python",
     "metadata": {},
     "outputs": [
      {
       "metadata": {},
       "output_type": "pyout",
       "prompt_number": 229,
       "text": [
        "array([[  0.00000000e+00,   0.00000000e+00],\n",
        "       [ -1.27583717e-02,  -5.10515960e-01],\n",
        "       [ -5.21312118e-02,  -1.05454046e+00],\n",
        "       [ -1.19905686e-01,  -1.63588430e+00],\n",
        "       [ -2.18070260e-01,  -2.25871413e+00],\n",
        "       [ -3.48833543e-01,  -2.92758788e+00],\n",
        "       [ -5.14645061e-01,  -3.64749360e+00],\n",
        "       [ -7.18218007e-01,  -4.42389211e+00],\n",
        "       [ -9.62554271e-01,  -5.26276367e+00],\n",
        "       [ -1.25097197e+00,  -6.17065941e+00],\n",
        "       [ -1.58713569e+00,  -7.15475765e+00],\n",
        "       [ -1.97508968e+00,  -8.22292573e+00],\n",
        "       [ -2.41929430e+00,  -9.38378785e+00],\n",
        "       [ -2.92466621e+00,  -1.06467997e+01],\n",
        "       [ -3.49662230e+00,  -1.20223302e+01],\n",
        "       [ -4.14112808e+00,  -1.35217512e+01],\n",
        "       [ -4.86475077e+00,  -1.51575361e+01],\n",
        "       [ -5.67471764e+00,  -1.69433683e+01],\n",
        "       [ -6.57898006e+00,  -1.88942593e+01],\n",
        "       [ -7.58628384e+00,  -2.10266799e+01],\n",
        "       [ -8.70624645e+00,  -2.33587028e+01],\n",
        "       [ -9.94944189e+00,  -2.59101600e+01],\n",
        "       [ -1.13274937e+01,  -2.87028151e+01],\n",
        "       [ -1.28531776e+01,  -3.17605530e+01],\n",
        "       [ -1.45405330e+01,  -3.51095873e+01],\n",
        "       [ -1.64049873e+01,  -3.87786893e+01],\n",
        "       [ -1.84634906e+01,  -4.27994379e+01],\n",
        "       [ -2.07346645e+01,  -4.72064950e+01],\n",
        "       [ -2.32389655e+01,  -5.20379077e+01],\n",
        "       [ -2.59988638e+01,  -5.73354395e+01],\n",
        "       [ -2.90390405e+01,  -6.31449347e+01],\n",
        "       [ -3.23866034e+01,  -6.95167179e+01],\n",
        "       [ -3.60713244e+01,  -7.65060326e+01],\n",
        "       [ -4.01258994e+01,  -8.41735235e+01],\n",
        "       [ -4.45862348e+01,  -9.25857644e+01],\n",
        "       [ -4.94917612e+01,  -1.01815840e+02],\n",
        "       [ -5.48857778e+01,  -1.11943982e+02],\n",
        "       [ -6.08158312e+01,  -1.23058270e+02],\n",
        "       [ -6.73341307e+01,  -1.35255401e+02],\n",
        "       [ -7.44980041e+01,  -1.48641528e+02],\n",
        "       [ -8.23703989e+01,  -1.63333192e+02],\n",
        "       [ -9.10204322e+01,  -1.79458337e+02],\n",
        "       [ -1.00523994e+02,  -1.97157423e+02],\n",
        "       [ -1.10964408e+02,  -2.16584655e+02],\n",
        "       [ -1.22433166e+02,  -2.37909329e+02],\n",
        "       [ -1.35030716e+02,  -2.61317305e+02],\n",
        "       [ -1.48867350e+02,  -2.87012633e+02],\n",
        "       [ -1.64064158e+02,  -3.15219332e+02],\n",
        "       [ -1.80754093e+02,  -3.46183344e+02],\n",
        "       [ -1.99083124e+02,  -3.80174680e+02],\n",
        "       [ -2.19211515e+02,  -4.17489778e+02],\n",
        "       [ -2.41315225e+02,  -4.58454088e+02],\n",
        "       [ -2.65587440e+02,  -5.03424913e+02],\n",
        "       [ -2.92240259e+02,  -5.52794524e+02],\n",
        "       [ -3.21506552e+02,  -6.06993590e+02],\n",
        "       [ -3.53641982e+02,  -6.66494927e+02],\n",
        "       [ -3.88927247e+02,  -7.31817633e+02],\n",
        "       [ -4.27670522e+02,  -8.03531610e+02],\n",
        "       [ -4.70210153e+02,  -8.82262543e+02],\n",
        "       [ -5.16917609e+02,  -9.68697358e+02],\n",
        "       [ -5.68200722e+02,  -1.06359022e+03],\n",
        "       [ -6.24507250e+02,  -1.16776910e+03],\n",
        "       [ -6.86328782e+02,  -1.28214302e+03],\n",
        "       [ -7.54205028e+02,  -1.40770998e+03],\n",
        "       [ -8.28728532e+02,  -1.54556566e+03],\n",
        "       [ -9.10549840e+02,  -1.69691298e+03],\n",
        "       [ -1.00038318e+03,  -1.86307262e+03],\n",
        "       [ -1.09901269e+03,  -2.04549452e+03],\n",
        "       [ -1.20729928e+03,  -2.24577054e+03],\n",
        "       [ -1.32618810e+03,  -2.46564835e+03],\n",
        "       [ -1.45671686e+03,  -2.70704670e+03],\n",
        "       [ -1.60002481e+03,  -2.97207213e+03],\n",
        "       [ -1.75736274e+03,  -3.26303741e+03],\n",
        "       [ -1.93010386e+03,  -3.58248164e+03],\n",
        "       [ -2.11975580e+03,  -3.93319250e+03],\n",
        "       [ -2.32797377e+03,  -4.31823049e+03],\n",
        "       [ -2.55657499e+03,  -4.74095572e+03],\n",
        "       [ -2.80755456e+03,  -5.20505718e+03],\n",
        "       [ -3.08310288e+03,  -5.71458493e+03],\n",
        "       [ -3.38562473e+03,  -6.27398549e+03],\n",
        "       [ -3.71776032e+03,  -6.88814060e+03],\n",
        "       [ -4.08240825e+03,  -7.56240985e+03],\n",
        "       [ -4.48275087e+03,  -8.30267743e+03],\n",
        "       [ -4.92228203e+03,  -9.11540350e+03],\n",
        "       [ -5.40483756e+03,  -1.00076805e+04],\n",
        "       [ -5.93462877e+03,  -1.09872953e+04],\n",
        "       [ -6.51627917e+03,  -1.20627967e+04],\n",
        "       [ -7.15486484e+03,  -1.32435704e+04],\n",
        "       [ -7.85595874e+03,  -1.45399208e+04],\n",
        "       [ -8.62567930e+03,  -1.59631611e+04],\n",
        "       [ -9.47074388e+03,  -1.75257115e+04],\n",
        "       [ -1.03985273e+04,  -1.92412082e+04],\n",
        "       [ -1.14171263e+04,  -2.11246220e+04],\n",
        "       [ -1.25354302e+04,  -2.31923893e+04],\n",
        "       [ -1.37631984e+04,  -2.54625552e+04],\n",
        "       [ -1.51111454e+04,  -2.79549310e+04],\n",
        "       [ -1.65910347e+04,  -3.06912674e+04],\n",
        "       [ -1.82157812e+04,  -3.36954440e+04],\n",
        "       [ -1.99995640e+04,  -3.69936779e+04],\n",
        "       [ -2.19579498e+04,  -4.06147522e+04]])"
       ]
      }
     ],
     "prompt_number": 229
    },
    {
     "cell_type": "markdown",
     "metadata": {},
     "source": [
      "#Visualizing the System"
     ]
    },
    {
     "cell_type": "markdown",
     "metadata": {},
     "source": [
      "PyDy has a native module `pydy.viz` which is used to visualize a System in a GUI. Importing the module"
     ]
    },
    {
     "cell_type": "code",
     "collapsed": false,
     "input": [
      "from pydy.viz import *"
     ],
     "language": "python",
     "metadata": {},
     "outputs": [],
     "prompt_number": 230
    },
    {
     "cell_type": "markdown",
     "metadata": {},
     "source": [
      "For visualizing the system, we need to create shapes for the objects we wish to visualize, and map each of them \n",
      "to a VisualizationFrame, which holds the position and orientation of the object"
     ]
    },
    {
     "cell_type": "code",
     "collapsed": false,
     "input": [
      "bob = Sphere(2, color=\"red\", material=\"metal\")\n",
      "bob_vframe = VisualizationFrame(ceiling, p, bob)"
     ],
     "language": "python",
     "metadata": {},
     "outputs": [],
     "prompt_number": 231
    },
    {
     "cell_type": "code",
     "collapsed": false,
     "input": [
      "ceil = Plane(length=10, width=10, color=\"white\")\n",
      "ceil_vframe = VisualizationFrame(ceiling, o, ceil)"
     ],
     "language": "python",
     "metadata": {},
     "outputs": [],
     "prompt_number": 232
    },
    {
     "cell_type": "markdown",
     "metadata": {},
     "source": [
      "Now we initialize a Scene. A Scene contains all the information required to visualize a System onto a canvas.\n",
      "It takes a ReferenceFrame and Point as the argument"
     ]
    },
    {
     "cell_type": "code",
     "collapsed": false,
     "input": [
      "scene = Scene(ceiling, o)\n",
      "c1 = ceiling.orientnew('c', 'Axis', [90, ceiling.x])\n",
      "c1.x.express(ceiling)"
     ],
     "language": "python",
     "metadata": {},
     "outputs": [
      {
       "latex": [
        "$$\\mathbf{\\hat{c}_x}$$"
       ],
       "metadata": {},
       "output_type": "pyout",
       "png": "[encoded data removed]",
       "prompt_number": 233,
       "text": [
        "\u001b[94m\u001b[1mc_x\u001b[0;0m\u001b[0;0m"
       ]
      }
     ],
     "prompt_number": 233
    },
    {
     "cell_type": "markdown",
     "metadata": {},
     "source": [
      "We provide the VisualizationFrames, which we want to visualize as a list to scene.."
     ]
    },
    {
     "cell_type": "code",
     "collapsed": false,
     "input": [
      "scene.visualization_frames = [bob_vframe, ceil_vframe]"
     ],
     "language": "python",
     "metadata": {},
     "outputs": [],
     "prompt_number": 234
    },
    {
     "cell_type": "markdown",
     "metadata": {},
     "source": [
      "`generate_visualization_json_system` method must be called before calling display methods, to generate the\n",
      "required data for the animations, in the form of JSON files"
     ]
    },
    {
     "cell_type": "code",
     "collapsed": false,
     "input": [
      "scene.generate_visualization_json_system(sys)"
     ],
     "language": "python",
     "metadata": {},
     "outputs": [],
     "prompt_number": 235
    },
    {
     "cell_type": "markdown",
     "metadata": {},
     "source": [
      "Now, we call the display method"
     ]
    },
    {
     "cell_type": "code",
     "collapsed": false,
     "input": [
      "scene.display_ipython()"
     ],
     "language": "python",
     "metadata": {},
     "outputs": [
      {
       "output_type": "stream",
       "stream": "stdout",
       "text": [
        "The 'static' directory already exists. Would you like to overwrite the contents? [y|n]\n",
        "y\n"
       ]
      }
     ],
     "prompt_number": 236
    },
    {
     "cell_type": "code",
     "collapsed": false,
     "input": [],
     "language": "python",
     "metadata": {},
     "outputs": [],
     "prompt_number": 202
    },
    {
     "cell_type": "code",
     "collapsed": false,
     "input": [],
     "language": "python",
     "metadata": {},
     "outputs": [],
     "prompt_number": 202
    },
    {
     "cell_type": "code",
     "collapsed": false,
     "input": [],
     "language": "python",
     "metadata": {},
     "outputs": [],
     "prompt_number": 202
    },
    {
     "cell_type": "code",
     "collapsed": false,
     "input": [],
     "language": "python",
     "metadata": {},
     "outputs": [],
     "prompt_number": 202
    },
    {
     "cell_type": "code",
     "collapsed": false,
     "input": [],
     "language": "python",
     "metadata": {},
     "outputs": [],
     "prompt_number": 202
    },
    {
     "cell_type": "code",
     "collapsed": false,
     "input": [],
     "language": "python",
     "metadata": {},
     "outputs": [],
     "prompt_number": 202
    },
    {
     "cell_type": "code",
     "collapsed": false,
     "input": [],
     "language": "python",
     "metadata": {},
     "outputs": [],
     "prompt_number": 202
    },
    {
     "cell_type": "code",
     "collapsed": false,
     "input": [],
     "language": "python",
     "metadata": {},
     "outputs": [],
     "prompt_number": 202
    },
    {
     "cell_type": "code",
     "collapsed": false,
     "input": [],
     "language": "python",
     "metadata": {},
     "outputs": [],
     "prompt_number": 202
    },
    {
     "cell_type": "code",
     "collapsed": false,
     "input": [],
     "language": "python",
     "metadata": {},
     "outputs": [],
     "prompt_number": 202
    },
    {
     "cell_type": "code",
     "collapsed": false,
     "input": [],
     "language": "python",
     "metadata": {},
     "outputs": [],
     "prompt_number": 202
    },
    {
     "cell_type": "code",
     "collapsed": false,
     "input": [],
     "language": "python",
     "metadata": {},
     "outputs": []
    }
   ],
   "metadata": {}
  }
 ]
}