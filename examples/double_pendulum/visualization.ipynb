{
 "metadata": {
  "name": "",
  "signature": "sha256:0df6ee60446fd441cdfe3c20bedf35ccb61fc3d0d28287009641c6c536daafb3"
 },
 "nbformat": 3,
 "nbformat_minor": 0,
 "worksheets": [
  {
   "cells": [
    {
     "cell_type": "markdown",
     "metadata": {},
     "source": [
      "# PyDy Visualizer inside IPython notebook(demonstration) #"
     ]
    },
    {
     "cell_type": "markdown",
     "metadata": {},
     "source": [
      "This Notebook is to demonstrate the capabilities of pydy.viz to render the visualizations inside the IPython notebooks.\n",
      "If you do not want to run the example inside the notebook, you can also run visualize.py from terminal:\n",
      "\n",
      "    $ python visualize.py"
     ]
    },
    {
     "cell_type": "code",
     "collapsed": false,
     "input": [
      "#Import the code from visualize.py\n",
      "from visualize import *"
     ],
     "language": "python",
     "metadata": {},
     "outputs": [
      {
       "output_type": "stream",
       "stream": "stdout",
       "text": [
        "[[  1.00000000e+00   0.00000000e+00   0.00000000e+00   0.00000000e+00]\n",
        " [  9.99864852e-01   7.30286087e-05  -1.61639120e-02   8.73515916e-03]\n",
        " [  9.99459380e-01   2.92218333e-04  -3.23314323e-02   1.74828945e-02]\n",
        " ..., \n",
        " [  6.18326304e-02  -1.31403189e+00   4.60564057e-02   5.64181228e-01]\n",
        " [  6.25581182e-02  -1.30445582e+00   4.06713430e-02   5.81125378e-01]\n",
        " [  6.31914946e-02  -1.29459599e+00   3.50387286e-02   5.98119064e-01]]\n"
       ]
      }
     ],
     "prompt_number": 1
    },
    {
     "cell_type": "code",
     "collapsed": false,
     "input": [
      "# display the visualizer!\n",
      "scene.display_ipython()"
     ],
     "language": "python",
     "metadata": {},
     "outputs": [
      {
       "output_type": "stream",
       "stream": "stdout",
       "text": [
        "The 'static' directory already exists. Would you like to overwrite the contents? [y|n]\n",
        "y\n"
       ]
      },
      {
       "ename": "NameError",
       "evalue": "global name 'scene' is not defined",
       "output_type": "pyerr",
       "traceback": [
        "\u001b[1;31m---------------------------------------------------------------------------\u001b[0m",
        "\u001b[1;31mNameError\u001b[0m                                 Traceback (most recent call last)",
        "\u001b[1;32m/media/tarun/6A86CA8286CA4DEF/develop/pydy/pydy/viz/scene.py\u001b[0m in \u001b[0;36mbutton_click\u001b[1;34m(clicked)\u001b[0m\n\u001b[0;32m    501\u001b[0m                                     outfile_prefix=self.outfile_prefix)\n\u001b[0;32m    502\u001b[0m             \u001b[0mself\u001b[0m\u001b[1;33m.\u001b[0m\u001b[0mcreate_static_html\u001b[0m\u001b[1;33m(\u001b[0m\u001b[0moverwrite\u001b[0m\u001b[1;33m=\u001b[0m\u001b[0mTrue\u001b[0m\u001b[1;33m,\u001b[0m \u001b[0msilent\u001b[0m\u001b[1;33m=\u001b[0m\u001b[0mTrue\u001b[0m\u001b[1;33m)\u001b[0m\u001b[1;33m\u001b[0m\u001b[0m\n\u001b[1;32m--> 503\u001b[1;33m             \u001b[0mjs\u001b[0m \u001b[1;33m=\u001b[0m \u001b[1;34m'jQuery(\"#json-input\").val(\"{}\");'\u001b[0m\u001b[1;33m.\u001b[0m\u001b[0mformat\u001b[0m\u001b[1;33m(\u001b[0m\u001b[1;34m'static/'\u001b[0m \u001b[1;33m+\u001b[0m \u001b[0mscene\u001b[0m\u001b[1;33m.\u001b[0m\u001b[0mscene_json_file\u001b[0m\u001b[1;33m)\u001b[0m\u001b[1;33m\u001b[0m\u001b[0m\n\u001b[0m\u001b[0;32m    504\u001b[0m \u001b[1;33m\u001b[0m\u001b[0m\n\u001b[0;32m    505\u001b[0m             \u001b[0mdisplay\u001b[0m\u001b[1;33m(\u001b[0m\u001b[0mJavascript\u001b[0m\u001b[1;33m(\u001b[0m\u001b[1;34m'alert(\"'\u001b[0m \u001b[1;33m+\u001b[0m \u001b[0mjs\u001b[0m \u001b[1;33m+\u001b[0m \u001b[1;34m'\");'\u001b[0m\u001b[1;33m)\u001b[0m\u001b[1;33m)\u001b[0m\u001b[1;33m\u001b[0m\u001b[0m\n",
        "\u001b[1;31mNameError\u001b[0m: global name 'scene' is not defined"
       ]
      }
     ],
     "prompt_number": 2
    },
    {
     "cell_type": "code",
     "collapsed": false,
     "input": [
      "scene.scene_json_file"
     ],
     "language": "python",
     "metadata": {},
     "outputs": [
      {
       "metadata": {},
       "output_type": "pyout",
       "prompt_number": 4,
       "text": [
        "'2014-08-11_23:01:45_scene_desc.json'"
       ]
      }
     ],
     "prompt_number": 4
    },
    {
     "cell_type": "code",
     "collapsed": false,
     "input": [
      "from IPython.display import *"
     ],
     "language": "python",
     "metadata": {},
     "outputs": [],
     "prompt_number": 6
    },
    {
     "cell_type": "code",
     "collapsed": false,
     "input": [],
     "language": "python",
     "metadata": {},
     "outputs": [
      {
       "javascript": [
        "jQuery(\"#json-input\").val(\"static/2014-08-11_23:01:45_scene_desc.json\")"
       ],
       "metadata": {},
       "output_type": "display_data",
       "text": [
        "<IPython.core.display.Javascript object>"
       ]
      }
     ],
     "prompt_number": 13
    },
    {
     "cell_type": "code",
     "collapsed": false,
     "input": [
      "js"
     ],
     "language": "python",
     "metadata": {},
     "outputs": [
      {
       "metadata": {},
       "output_type": "pyout",
       "prompt_number": 10,
       "text": [
        "'jQuery(\"#json-input\").val(\"static/2014-08-11_23:01:45_scene_desc.json\")'"
       ]
      }
     ],
     "prompt_number": 10
    },
    {
     "cell_type": "code",
     "collapsed": false,
     "input": [],
     "language": "python",
     "metadata": {},
     "outputs": []
    }
   ],
   "metadata": {}
  }
 ]
}