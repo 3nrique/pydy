{
 "metadata": {
  "name": "",
  "signature": "sha256:cfbc130ff8afe66e41e48d0038a744daea8cee2ea7ca845ab78989a71e3f2226"
 },
 "nbformat": 3,
 "nbformat_minor": 0,
 "worksheets": [
  {
   "cells": [
    {
     "cell_type": "markdown",
     "metadata": {},
     "source": [
      "# PyDy Visualizer inside IPython notebook(demonstration) #"
     ]
    },
    {
     "cell_type": "markdown",
     "metadata": {},
     "source": [
      "This Notebook is to demonstrate the capabilities of pydy.viz to render the visualizations inside the IPython notebooks.\n",
      "If you do not want to run the example inside the notebook, you can also run visualize.py from terminal:\n",
      "\n",
      "    $ python visualize.py"
     ]
    },
    {
     "cell_type": "code",
     "collapsed": false,
     "input": [
      "#Import the code from visualize.py\n",
      "from visualize import *"
     ],
     "language": "python",
     "metadata": {},
     "outputs": [],
     "prompt_number": 1
    },
    {
     "cell_type": "code",
     "collapsed": false,
     "input": [
      "# display the visualizer!\n",
      "scene.display_ipython()"
     ],
     "language": "python",
     "metadata": {},
     "outputs": [
      {
       "output_type": "stream",
       "stream": "stdout",
       "text": [
        "The 'static' directory already exists. Would you like to overwrite the contents? [y|n]\n",
        "y\n"
       ]
      }
     ],
     "prompt_number": 3
    },
    {
     "cell_type": "code",
     "collapsed": false,
     "input": [],
     "language": "python",
     "metadata": {},
     "outputs": []
    }
   ],
   "metadata": {}
  }
 ]
}