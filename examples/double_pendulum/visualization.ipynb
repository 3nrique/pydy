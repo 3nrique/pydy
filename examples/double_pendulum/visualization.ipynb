{
 "metadata": {
  "name": "",
  "signature": "sha256:f9f22692a013118f289001e411742f949e0928ca04c00a9a9fd6a630f2d45df1"
 },
 "nbformat": 3,
 "nbformat_minor": 0,
 "worksheets": [
  {
   "cells": [
    {
     "cell_type": "markdown",
     "metadata": {},
     "source": [
      "# PyDy Visualizer inside IPython notebook(demonstration) #"
     ]
    },
    {
     "cell_type": "markdown",
     "metadata": {},
     "source": [
      "This Notebook is to demonstrate the capabilities of pydy.viz to render the visualizations inside the IPython notebooks.\n",
      "If you do not want to run the example inside the notebook, you can also run visualize.py from terminal:\n",
      "\n",
      "    $ python visualize.py"
     ]
    },
    {
     "cell_type": "code",
     "collapsed": false,
     "input": [
      "#Import the code from visualize.py\n",
      "from visualize import *"
     ],
     "language": "python",
     "metadata": {},
     "outputs": [
      {
       "output_type": "stream",
       "stream": "stdout",
       "text": [
        "[[  1.00000000e+00   0.00000000e+00   0.00000000e+00   0.00000000e+00]\n",
        " [  9.99864852e-01   7.30286087e-05  -1.61639120e-02   8.73515916e-03]\n",
        " [  9.99459380e-01   2.92218333e-04  -3.23314323e-02   1.74828945e-02]\n",
        " ..., \n",
        " [  6.18326304e-02  -1.31403189e+00   4.60564057e-02   5.64181228e-01]\n",
        " [  6.25581182e-02  -1.30445582e+00   4.06713430e-02   5.81125378e-01]\n",
        " [  6.31914946e-02  -1.29459599e+00   3.50387286e-02   5.98119064e-01]]\n"
       ]
      }
     ],
     "prompt_number": 1
    },
    {
     "cell_type": "code",
     "collapsed": false,
     "input": [
      "# display the visualizer!\n",
      "scene.display_ipython()"
     ],
     "language": "python",
     "metadata": {},
     "outputs": [
      {
       "output_type": "stream",
       "stream": "stdout",
       "text": [
        "The 'static' directory already exists. Would you like to overwrite the contents? [y|n]\n",
        "y\n"
       ]
      },
      {
       "javascript": [
        "jQuery(\"#json-input\").val(\"static/2014-08-11_23:31:37_scene_desc.json\");"
       ],
       "metadata": {},
       "output_type": "display_data",
       "text": [
        "<IPython.core.display.Javascript object>"
       ]
      },
      {
       "javascript": [
        "jQuery(\"#simulation-load\").click()"
       ],
       "metadata": {},
       "output_type": "display_data",
       "text": [
        "<IPython.core.display.Javascript object>"
       ]
      },
      {
       "javascript": [
        "jQuery(\"#json-input\").val(\"static/2014-08-11_23:33:36_scene_desc.json\");"
       ],
       "metadata": {},
       "output_type": "display_data",
       "text": [
        "<IPython.core.display.Javascript object>"
       ]
      },
      {
       "javascript": [
        "jQuery(\"#simulation-load\").click()"
       ],
       "metadata": {},
       "output_type": "display_data",
       "text": [
        "<IPython.core.display.Javascript object>"
       ]
      }
     ],
     "prompt_number": 2
    }
   ],
   "metadata": {}
  }
 ]
}